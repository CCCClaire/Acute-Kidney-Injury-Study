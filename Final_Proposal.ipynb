{
 "cells": [
  {
   "cell_type": "markdown",
   "metadata": {},
   "source": [
    "## AKI project."
   ]
  },
  {
   "cell_type": "markdown",
   "metadata": {},
   "source": [
    "Claire Chen\n",
    "\n",
    "Nov 5th, 2018\n",
    "\n",
    "Acute kidney injury (AKI) is associated with increased morbidity and mortality after cardiac and vascular surgery. The incidence and factors associated with the development AKI after lower extremity bypass (LEB) are not well defined. The objective of this study is to determine the incidence and characteristics associated with the development of AKI in patients undergoing infrainguinal LEB."
   ]
  },
  {
   "cell_type": "markdown",
   "metadata": {},
   "source": [
    "## 1. Describe your techniques: break the data pipeline into portions and describe each one.\n",
    "\n",
    "A retrospective review of all infrainguinal LEB procedures in the Vascular Quality Initiative (VQI) registry, from January 2003 to April 2015 was performed. AKI was defined as post-operative rise in serum creatinine > 0.5 mg/dl or new renal impairment requiring temporary or permanent dialysis. Demographic, procedural and clinical variables were included in the analysis.\n",
    "\n",
    "Step 1.\n",
    "Clean data and EDA.\n",
    "\n",
    "Step 2. \n",
    "Feature analysis to figure out associated incidence and factors.\n",
    "\n",
    "Step 3.\n",
    "Fit into a model to predict AKI.\n",
    "\n",
    "Step 4.\n",
    "Further related investigations such as survival analysis, etc. "
   ]
  },
  {
   "cell_type": "markdown",
   "metadata": {},
   "source": [
    "## 2. Can you anticipate problems, what are they, do you need to overcome them now? How do you overcome them?\n",
    "Data cleanning seems to be complicated, since there are too many columns and Nans. In addition, understanding the relationship between features is also very difficult. Extra works are needed to understand medical terms.\n"
   ]
  },
  {
   "cell_type": "markdown",
   "metadata": {},
   "source": [
    "## 3. How far do you anticipate to take the project in the allotted time frame? \n",
    "First week: Step 1 to step 3. Generate a model and find some insights of the data.\n",
    "\n",
    "Second week: Back to EDA and try for other methods. Repeat step 1 to step 3. \n",
    "\n",
    "Remained time: Step 4."
   ]
  },
  {
   "cell_type": "markdown",
   "metadata": {},
   "source": [
    "## 4. Any other repos, libraries and other tools that you're considering using? Are you citing them? Are you acknowledging them for their contribution?\n",
    "Currently no."
   ]
  },
  {
   "cell_type": "markdown",
   "metadata": {},
   "source": [
    "## 5. Data"
   ]
  },
  {
   "cell_type": "code",
   "execution_count": 12,
   "metadata": {},
   "outputs": [
    {
     "data": {
      "text/html": [
       "<div>\n",
       "<style scoped>\n",
       "    .dataframe tbody tr th:only-of-type {\n",
       "        vertical-align: middle;\n",
       "    }\n",
       "\n",
       "    .dataframe tbody tr th {\n",
       "        vertical-align: top;\n",
       "    }\n",
       "\n",
       "    .dataframe thead th {\n",
       "        text-align: right;\n",
       "    }\n",
       "</style>\n",
       "<table border=\"1\" class=\"dataframe\">\n",
       "  <thead>\n",
       "    <tr style=\"text-align: right;\">\n",
       "      <th></th>\n",
       "      <th>PATIENTID</th>\n",
       "      <th>PRIMPROCID</th>\n",
       "      <th>LTFCALC</th>\n",
       "      <th>SURGMONTH</th>\n",
       "      <th>SURGYEAR</th>\n",
       "      <th>SURGWEEKDAY</th>\n",
       "      <th>SSDI_MORTYEAR</th>\n",
       "      <th>VQI_MORTYEAR</th>\n",
       "      <th>ALL_MORTYEAR</th>\n",
       "      <th>DEAD</th>\n",
       "      <th>...</th>\n",
       "      <th>LTFIPSABI</th>\n",
       "      <th>LTFIPSTBI</th>\n",
       "      <th>LTFINFECTION</th>\n",
       "      <th>LTFREVISION</th>\n",
       "      <th>LTFREVISIONDAYS</th>\n",
       "      <th>LTFTHROMBREVISION</th>\n",
       "      <th>LTFTHROMBREVISIONDAYS</th>\n",
       "      <th>LTFMAJAMP</th>\n",
       "      <th>LTFMAJAMPDAYS</th>\n",
       "      <th>STROKEORDEATH</th>\n",
       "    </tr>\n",
       "  </thead>\n",
       "  <tbody>\n",
       "    <tr>\n",
       "      <th>0</th>\n",
       "      <td>6</td>\n",
       "      <td>13428</td>\n",
       "      <td>1</td>\n",
       "      <td>DEC</td>\n",
       "      <td>2009</td>\n",
       "      <td>6</td>\n",
       "      <td>NaN</td>\n",
       "      <td>NaN</td>\n",
       "      <td>NaN</td>\n",
       "      <td>0</td>\n",
       "      <td>...</td>\n",
       "      <td>0.90</td>\n",
       "      <td>0.55</td>\n",
       "      <td>0.0</td>\n",
       "      <td>0.0</td>\n",
       "      <td>305.0</td>\n",
       "      <td>0.0</td>\n",
       "      <td>305.0</td>\n",
       "      <td>0.0</td>\n",
       "      <td>305.0</td>\n",
       "      <td>NaN</td>\n",
       "    </tr>\n",
       "    <tr>\n",
       "      <th>1</th>\n",
       "      <td>6</td>\n",
       "      <td>38228</td>\n",
       "      <td>0</td>\n",
       "      <td>NOV</td>\n",
       "      <td>2011</td>\n",
       "      <td>6</td>\n",
       "      <td>NaN</td>\n",
       "      <td>NaN</td>\n",
       "      <td>NaN</td>\n",
       "      <td>0</td>\n",
       "      <td>...</td>\n",
       "      <td>0.92</td>\n",
       "      <td>0.64</td>\n",
       "      <td>0.0</td>\n",
       "      <td>0.0</td>\n",
       "      <td>53.0</td>\n",
       "      <td>0.0</td>\n",
       "      <td>53.0</td>\n",
       "      <td>0.0</td>\n",
       "      <td>53.0</td>\n",
       "      <td>0.0</td>\n",
       "    </tr>\n",
       "    <tr>\n",
       "      <th>2</th>\n",
       "      <td>8</td>\n",
       "      <td>6</td>\n",
       "      <td>0</td>\n",
       "      <td>FEB</td>\n",
       "      <td>2009</td>\n",
       "      <td>3</td>\n",
       "      <td>NaN</td>\n",
       "      <td>NaN</td>\n",
       "      <td>NaN</td>\n",
       "      <td>0</td>\n",
       "      <td>...</td>\n",
       "      <td>NaN</td>\n",
       "      <td>NaN</td>\n",
       "      <td>NaN</td>\n",
       "      <td>0.0</td>\n",
       "      <td>9.0</td>\n",
       "      <td>0.0</td>\n",
       "      <td>9.0</td>\n",
       "      <td>0.0</td>\n",
       "      <td>9.0</td>\n",
       "      <td>NaN</td>\n",
       "    </tr>\n",
       "    <tr>\n",
       "      <th>3</th>\n",
       "      <td>20</td>\n",
       "      <td>18</td>\n",
       "      <td>1</td>\n",
       "      <td>JUN</td>\n",
       "      <td>2009</td>\n",
       "      <td>6</td>\n",
       "      <td>NaN</td>\n",
       "      <td>NaN</td>\n",
       "      <td>NaN</td>\n",
       "      <td>0</td>\n",
       "      <td>...</td>\n",
       "      <td>0.82</td>\n",
       "      <td>NaN</td>\n",
       "      <td>0.0</td>\n",
       "      <td>0.0</td>\n",
       "      <td>368.0</td>\n",
       "      <td>0.0</td>\n",
       "      <td>368.0</td>\n",
       "      <td>0.0</td>\n",
       "      <td>368.0</td>\n",
       "      <td>0.0</td>\n",
       "    </tr>\n",
       "    <tr>\n",
       "      <th>4</th>\n",
       "      <td>23</td>\n",
       "      <td>20</td>\n",
       "      <td>1</td>\n",
       "      <td>JAN</td>\n",
       "      <td>2009</td>\n",
       "      <td>3</td>\n",
       "      <td>2010.0</td>\n",
       "      <td>NaN</td>\n",
       "      <td>2010.0</td>\n",
       "      <td>1</td>\n",
       "      <td>...</td>\n",
       "      <td>1.14</td>\n",
       "      <td>0.35</td>\n",
       "      <td>0.0</td>\n",
       "      <td>0.0</td>\n",
       "      <td>472.0</td>\n",
       "      <td>0.0</td>\n",
       "      <td>472.0</td>\n",
       "      <td>0.0</td>\n",
       "      <td>472.0</td>\n",
       "      <td>1.0</td>\n",
       "    </tr>\n",
       "  </tbody>\n",
       "</table>\n",
       "<p>5 rows × 176 columns</p>\n",
       "</div>"
      ],
      "text/plain": [
       "   PATIENTID  PRIMPROCID  LTFCALC SURGMONTH  SURGYEAR  SURGWEEKDAY  \\\n",
       "0          6       13428        1       DEC      2009            6   \n",
       "1          6       38228        0       NOV      2011            6   \n",
       "2          8           6        0       FEB      2009            3   \n",
       "3         20          18        1       JUN      2009            6   \n",
       "4         23          20        1       JAN      2009            3   \n",
       "\n",
       "   SSDI_MORTYEAR  VQI_MORTYEAR  ALL_MORTYEAR  DEAD      ...        LTFIPSABI  \\\n",
       "0            NaN           NaN           NaN     0      ...             0.90   \n",
       "1            NaN           NaN           NaN     0      ...             0.92   \n",
       "2            NaN           NaN           NaN     0      ...              NaN   \n",
       "3            NaN           NaN           NaN     0      ...             0.82   \n",
       "4         2010.0           NaN        2010.0     1      ...             1.14   \n",
       "\n",
       "   LTFIPSTBI  LTFINFECTION  LTFREVISION  LTFREVISIONDAYS  LTFTHROMBREVISION  \\\n",
       "0       0.55           0.0          0.0            305.0                0.0   \n",
       "1       0.64           0.0          0.0             53.0                0.0   \n",
       "2        NaN           NaN          0.0              9.0                0.0   \n",
       "3        NaN           0.0          0.0            368.0                0.0   \n",
       "4       0.35           0.0          0.0            472.0                0.0   \n",
       "\n",
       "   LTFTHROMBREVISIONDAYS  LTFMAJAMP  LTFMAJAMPDAYS  STROKEORDEATH  \n",
       "0                  305.0        0.0          305.0            NaN  \n",
       "1                   53.0        0.0           53.0            0.0  \n",
       "2                    9.0        0.0            9.0            NaN  \n",
       "3                  368.0        0.0          368.0            0.0  \n",
       "4                  472.0        0.0          472.0            1.0  \n",
       "\n",
       "[5 rows x 176 columns]"
      ]
     },
     "execution_count": 12,
     "metadata": {},
     "output_type": "execute_result"
    }
   ],
   "source": [
    "import pandas as pd\n",
    "data = pd.read_csv('National_INFRA_2015-07-01.csv')\n",
    "data.head()"
   ]
  },
  {
   "cell_type": "code",
   "execution_count": 8,
   "metadata": {},
   "outputs": [
    {
     "data": {
      "text/plain": [
       "(23242, 176)"
      ]
     },
     "execution_count": 8,
     "metadata": {},
     "output_type": "execute_result"
    }
   ],
   "source": [
    "data.shape"
   ]
  }
 ],
 "metadata": {
  "kernelspec": {
   "display_name": "Python 3",
   "language": "python",
   "name": "python3"
  },
  "language_info": {
   "codemirror_mode": {
    "name": "ipython",
    "version": 3
   },
   "file_extension": ".py",
   "mimetype": "text/x-python",
   "name": "python",
   "nbconvert_exporter": "python",
   "pygments_lexer": "ipython3",
   "version": "3.6.6"
  }
 },
 "nbformat": 4,
 "nbformat_minor": 2
}
